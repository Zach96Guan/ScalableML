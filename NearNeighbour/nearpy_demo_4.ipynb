{
 "cells": [
  {
   "cell_type": "code",
   "execution_count": 1,
   "metadata": {},
   "outputs": [],
   "source": [
    "import numpy\n",
    "import scipy\n",
    "import unittest\n",
    "import nearpy.utils.utils\n",
    "from nearpy import Engine\n",
    "from nearpy.distances import CosineDistance\n",
    "\n",
    "from nearpy.hashes import RandomBinaryProjections, RandomBinaryProjectionTree, HashPermutations, HashPermutationMapper\n"
   ]
  },
  {
   "cell_type": "code",
   "execution_count": 2,
   "metadata": {},
   "outputs": [],
   "source": [
    "def print_results(results):\n",
    "    print('  Data \\t| Distance')\n",
    "    for r in results:\n",
    "        data = r[1]\n",
    "        dist = r[2]\n",
    "        print('  {} \\t| {:.4f}'.format(data, dist))\n"
   ]
  },
  {
   "cell_type": "code",
   "execution_count": 3,
   "metadata": {},
   "outputs": [],
   "source": [
    "# Dimension of feature space\n",
    "DIM = 100\n",
    "\n",
    "# Number of data points (dont do too much because of exact search)\n",
    "POINTS = 10000\n",
    "\n"
   ]
  },
  {
   "cell_type": "code",
   "execution_count": 4,
   "metadata": {},
   "outputs": [
    {
     "name": "stdout",
     "output_type": "stream",
     "text": [
      "Creating engines\n"
     ]
    }
   ],
   "source": [
    "print('Creating engines')\n",
    "\n",
    "# We want 12 projections, 20 results at least\n",
    "rbpt = RandomBinaryProjectionTree('rbpt', 20, 20)\n",
    "\n",
    "# Create engine 1\n",
    "engine_rbpt = Engine(DIM, lshashes=[rbpt], distance=CosineDistance())\n",
    "\n",
    "# Create binary hash as child hash\n",
    "rbp = RandomBinaryProjections('rbp1', 20)\n",
    "\n",
    "# Create engine 2\n",
    "engine = Engine(DIM, lshashes=[rbp], distance=CosineDistance())\n",
    "\n",
    "# Create permutations meta-hash\n",
    "permutations = HashPermutations('permut')\n",
    "\n",
    "# Create binary hash as child hash\n",
    "rbp_perm = RandomBinaryProjections('rbp_perm', 20)\n",
    "rbp_conf = {'num_permutation':50,'beam_size':10,'num_neighbour':100}\n",
    "\n",
    "# Add rbp as child hash of permutations hash\n",
    "permutations.add_child_hash(rbp_perm, rbp_conf)\n",
    "\n",
    "# Create engine 3\n",
    "engine_perm = Engine(DIM, lshashes=[permutations], distance=CosineDistance())\n",
    "\n",
    "# Create permutations meta-hash\n",
    "permutations2 = HashPermutationMapper('permut2')\n",
    "\n",
    "# Create binary hash as child hash\n",
    "rbp_perm2 = RandomBinaryProjections('rbp_perm2', 12)\n",
    "\n",
    "# Add rbp as child hash of permutations hash\n",
    "permutations2.add_child_hash(rbp_perm2)\n",
    "\n",
    "# Create engine 3\n",
    "engine_perm2 = Engine(DIM, lshashes=[permutations2], distance=CosineDistance())\n",
    "\n"
   ]
  },
  {
   "cell_type": "code",
   "execution_count": 5,
   "metadata": {},
   "outputs": [
    {
     "name": "stdout",
     "output_type": "stream",
     "text": [
      "Indexing 10000 random vectors of dimension 100\n",
      "Buckets 1 = 9900\n",
      "Buckets 2 = 9903\n"
     ]
    }
   ],
   "source": [
    "print('Indexing %d random vectors of dimension %d' % (POINTS, DIM))\n",
    "\n",
    "# First index some random vectors\n",
    "matrix = numpy.zeros((POINTS,DIM))\n",
    "for i in range(POINTS):\n",
    "    v = numpy.random.randn(DIM)\n",
    "    matrix[i, :] = nearpy.utils.utils.unitvec(v)\n",
    "    engine.store_vector(v, i)\n",
    "    engine_rbpt.store_vector(v, i)\n",
    "    engine_perm.store_vector(v, i)\n",
    "    engine_perm2.store_vector(v, i)\n",
    "\n",
    "print('Buckets 1 = %d' % len(engine.storage.buckets['rbp1'].keys()))\n",
    "print('Buckets 2 = %d' % len(engine_rbpt.storage.buckets['rbpt'].keys()))\n"
   ]
  },
  {
   "cell_type": "code",
   "execution_count": 6,
   "metadata": {},
   "outputs": [
    {
     "name": "stdout",
     "output_type": "stream",
     "text": [
      "Building permuted index for HashPermutations\n"
     ]
    }
   ],
   "source": [
    "print('Building permuted index for HashPermutations')\n",
    "\n",
    "# Then update permuted index\n",
    "permutations.build_permuted_index()\n"
   ]
  },
  {
   "cell_type": "code",
   "execution_count": 7,
   "metadata": {},
   "outputs": [
    {
     "name": "stdout",
     "output_type": "stream",
     "text": [
      "Generate random data\n"
     ]
    }
   ],
   "source": [
    "print('Generate random data')\n",
    "\n",
    "# Get random query vector\n",
    "query = numpy.random.randn(DIM)\n"
   ]
  },
  {
   "cell_type": "code",
   "execution_count": 8,
   "metadata": {},
   "outputs": [
    {
     "name": "stdout",
     "output_type": "stream",
     "text": [
      "\n",
      "Neighbour distances with RandomBinaryProjectionTree:\n",
      "  -> Candidate count is 22\n",
      "  Data \t| Distance\n",
      "  7445 \t| 0.8079\n",
      "  3521 \t| 0.8104\n",
      "  3615 \t| 0.8259\n",
      "  1325 \t| 0.8306\n",
      "  4111 \t| 0.8528\n",
      "  5106 \t| 0.8880\n",
      "  8363 \t| 0.9416\n",
      "  290 \t| 0.9518\n",
      "  5093 \t| 0.9528\n",
      "  1764 \t| 0.9597\n"
     ]
    }
   ],
   "source": [
    "# Do random query on engine 1\n",
    "print('\\nNeighbour distances with RandomBinaryProjectionTree:')\n",
    "print('  -> Candidate count is %d' % engine_rbpt.candidate_count(query))\n",
    "results = engine_rbpt.neighbours(query)\n",
    "print_results(results)\n"
   ]
  },
  {
   "cell_type": "code",
   "execution_count": 9,
   "metadata": {},
   "outputs": [
    {
     "name": "stdout",
     "output_type": "stream",
     "text": [
      "\n",
      "Neighbour distances with RandomBinaryProjections:\n",
      "  -> Candidate count is 0\n",
      "  Data \t| Distance\n"
     ]
    }
   ],
   "source": [
    "# Do random query on engine 2\n",
    "print('\\nNeighbour distances with RandomBinaryProjections:')\n",
    "print('  -> Candidate count is %d' % engine.candidate_count(query))\n",
    "results = engine.neighbours(query)\n",
    "print_results(results)\n"
   ]
  },
  {
   "cell_type": "code",
   "execution_count": 10,
   "metadata": {},
   "outputs": [
    {
     "name": "stdout",
     "output_type": "stream",
     "text": [
      "\n",
      "Neighbour distances with HashPermutations:\n",
      "  -> Candidate count is 102\n",
      "  Data \t| Distance\n",
      "  4295 \t| 0.6480\n",
      "  5840 \t| 0.7074\n",
      "  4214 \t| 0.7408\n",
      "  4475 \t| 0.7563\n",
      "  6193 \t| 0.7636\n",
      "  808 \t| 0.7773\n",
      "  3115 \t| 0.7786\n",
      "  3487 \t| 0.7842\n",
      "  320 \t| 0.7852\n",
      "  4509 \t| 0.7878\n"
     ]
    }
   ],
   "source": [
    "# Do random query on engine 3\n",
    "print('\\nNeighbour distances with HashPermutations:')\n",
    "print('  -> Candidate count is %d' % engine_perm.candidate_count(query))\n",
    "results = engine_perm.neighbours(query)\n",
    "print_results(results)\n"
   ]
  },
  {
   "cell_type": "code",
   "execution_count": 11,
   "metadata": {},
   "outputs": [
    {
     "name": "stdout",
     "output_type": "stream",
     "text": [
      "\n",
      "Neighbour distances with HashPermutations2:\n",
      "  -> Candidate count is 371\n",
      "  Data \t| Distance\n",
      "  2988 \t| 0.6716\n",
      "  5091 \t| 0.6899\n",
      "  7837 \t| 0.7055\n",
      "  537 \t| 0.7134\n",
      "  4320 \t| 0.7199\n",
      "  8162 \t| 0.7277\n",
      "  5973 \t| 0.7280\n",
      "  8247 \t| 0.7367\n",
      "  9673 \t| 0.7404\n",
      "  1329 \t| 0.7411\n"
     ]
    }
   ],
   "source": [
    "# Do random query on engine 4\n",
    "print('\\nNeighbour distances with HashPermutations2:')\n",
    "print('  -> Candidate count is %d' % engine_perm2.candidate_count(query))\n",
    "results = engine_perm2.neighbours(query)\n",
    "print_results(results)\n"
   ]
  },
  {
   "cell_type": "code",
   "execution_count": 12,
   "metadata": {},
   "outputs": [
    {
     "name": "stdout",
     "output_type": "stream",
     "text": [
      "\n",
      "Real neighbour distances:\n",
      "  Data \t| Distance\n",
      "  9227 \t| 0.6192\n",
      "  4295 \t| 0.6480\n",
      "  5667 \t| 0.6595\n",
      "  2988 \t| 0.6716\n",
      "  6495 \t| 0.6741\n",
      "  5198 \t| 0.6777\n",
      "  1375 \t| 0.6783\n",
      "  3482 \t| 0.6856\n",
      "  5091 \t| 0.6899\n",
      "  3751 \t| 0.6923\n"
     ]
    }
   ],
   "source": [
    "# Real neighbours\n",
    "print('\\nReal neighbour distances:')\n",
    "query = nearpy.utils.utils.unitvec(query)\n",
    "query = query.reshape((DIM, 1))\n",
    "dists = CosineDistance().distance(matrix,query)\n",
    "dists = dists.reshape((-1,))\n",
    "# dists = sorted(dists)\n",
    "dists_argsort = numpy.argsort(dists)\n",
    "\n",
    "results = [(None, d, dists[d]) for d in dists_argsort[:10]]\n",
    "print_results(results)"
   ]
  },
  {
   "cell_type": "code",
   "execution_count": null,
   "metadata": {},
   "outputs": [],
   "source": []
  },
  {
   "cell_type": "code",
   "execution_count": null,
   "metadata": {},
   "outputs": [],
   "source": []
  }
 ],
 "metadata": {
  "kernelspec": {
   "display_name": "Environment (conda_python3)",
   "language": "python",
   "name": "conda_python3"
  },
  "language_info": {
   "codemirror_mode": {
    "name": "ipython",
    "version": 3
   },
   "file_extension": ".py",
   "mimetype": "text/x-python",
   "name": "python",
   "nbconvert_exporter": "python",
   "pygments_lexer": "ipython3",
   "version": "3.6.5"
  }
 },
 "nbformat": 4,
 "nbformat_minor": 2
}
