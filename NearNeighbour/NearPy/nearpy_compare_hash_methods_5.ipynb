{
 "cells": [
  {
   "cell_type": "code",
   "execution_count": 1,
   "metadata": {},
   "outputs": [],
   "source": [
    "import time\n",
    "\n",
    "import numpy\n",
    "import scipy\n",
    "import unittest\n",
    "import nearpy.utils.utils\n",
    "from nearpy import Engine\n",
    "from nearpy.distances import EuclideanDistance\n",
    "\n",
    "from nearpy.hashes import RandomBinaryProjections, RandomBinaryProjectionsBias, RandomBinaryProjectionTree, HashPermutations, HashPermutationMapper\n"
   ]
  },
  {
   "cell_type": "code",
   "execution_count": 18,
   "metadata": {},
   "outputs": [],
   "source": [
    "def print_results(results):\n",
    "    print('  Data \\t| Distance')\n",
    "    for r in results:\n",
    "        data = r[1]\n",
    "        dist = r[2]\n",
    "        print('  {}  \\t| {:.6f}'.format(data, dist))\n"
   ]
  },
  {
   "cell_type": "code",
   "execution_count": 3,
   "metadata": {},
   "outputs": [],
   "source": [
    "# Dimension of feature space\n",
    "DIM = 100\n",
    "\n",
    "# Number of data points (dont do too much because of exact search)\n",
    "POINTS = 100000\n",
    "\n"
   ]
  },
  {
   "cell_type": "code",
   "execution_count": 4,
   "metadata": {},
   "outputs": [
    {
     "name": "stdout",
     "output_type": "stream",
     "text": [
      "Creating engines\n",
      "*** engine init done ***\n"
     ]
    }
   ],
   "source": [
    "print('Creating engines')\n",
    "\n",
    "\n",
    "# Create engine 1\n",
    "# We want 12 projections, 20 results at least\n",
    "rbpt = RandomBinaryProjectionTree('rbpt', 20, 20)\n",
    "engine_rbpt = Engine(DIM, lshashes=[rbpt], distance=EuclideanDistance())\n"
   ]
  },
  {
   "cell_type": "code",
   "execution_count": 5,
   "metadata": {},
   "outputs": [
    {
     "name": "stdout",
     "output_type": "stream",
     "text": [
      "*** engine init done ***\n"
     ]
    }
   ],
   "source": [
    "# Create engine 2\n",
    "rbp1 = RandomBinaryProjectionsBias('rbp1', 5,1)\n",
    "engine = Engine(DIM, lshashes=[rbp1], distance=EuclideanDistance())\n"
   ]
  },
  {
   "cell_type": "code",
   "execution_count": 6,
   "metadata": {},
   "outputs": [
    {
     "name": "stdout",
     "output_type": "stream",
     "text": [
      "*** engine init done ***\n"
     ]
    }
   ],
   "source": [
    "# Create engine 3\n",
    "# Create permutations meta-hash\n",
    "permutations = HashPermutations('permut')\n",
    "\n",
    "# Create binary hash as child hash\n",
    "rbp_perm = RandomBinaryProjections('rbp_perm', 20)\n",
    "rbp_conf = {'num_permutation':50,'beam_size':10,'num_neighbour':100}\n",
    "\n",
    "# Add rbp as child hash of permutations hash\n",
    "permutations.add_child_hash(rbp_perm, rbp_conf)\n",
    "\n",
    "engine_perm = Engine(DIM, lshashes=[permutations], distance=EuclideanDistance())\n"
   ]
  },
  {
   "cell_type": "code",
   "execution_count": 7,
   "metadata": {},
   "outputs": [
    {
     "name": "stdout",
     "output_type": "stream",
     "text": [
      "*** engine init done ***\n"
     ]
    }
   ],
   "source": [
    "# Create engine 4\n",
    "# Create permutations meta-hash\n",
    "permutations2 = HashPermutationMapper('permut2')\n",
    "\n",
    "# Create binary hash as child hash\n",
    "rbp_perm2 = RandomBinaryProjections('rbp_perm2', 12)\n",
    "\n",
    "# Add rbp as child hash of permutations hash\n",
    "permutations2.add_child_hash(rbp_perm2)\n",
    "\n",
    "engine_perm2 = Engine(DIM, lshashes=[permutations2], distance=EuclideanDistance())\n",
    "\n"
   ]
  },
  {
   "cell_type": "code",
   "execution_count": 8,
   "metadata": {},
   "outputs": [
    {
     "name": "stdout",
     "output_type": "stream",
     "text": [
      "Indexing 100000 random vectors of dimension 100\n",
      "Buckets 1 = 32\n",
      "Buckets 2 = 91084\n"
     ]
    }
   ],
   "source": [
    "print('Indexing %d random vectors of dimension %d' % (POINTS, DIM))\n",
    "\n",
    "# First index some random vectors\n",
    "matrix = numpy.zeros((POINTS,DIM))\n",
    "for i in range(POINTS):\n",
    "    v = numpy.random.randn(DIM)\n",
    "    matrix[i, :] = v\n",
    "    engine.store_vector(v, i)\n",
    "    engine_rbpt.store_vector(v, i)\n",
    "    engine_perm.store_vector(v, i)\n",
    "    engine_perm2.store_vector(v, i)\n",
    "\n",
    "print('Buckets 1 = %d' % len(engine.storage.buckets['rbp1'].keys()))\n",
    "print('Buckets 2 = %d' % len(engine_rbpt.storage.buckets['rbpt'].keys()))\n"
   ]
  },
  {
   "cell_type": "code",
   "execution_count": 9,
   "metadata": {},
   "outputs": [
    {
     "name": "stdout",
     "output_type": "stream",
     "text": [
      "Building permuted index for HashPermutations\n"
     ]
    }
   ],
   "source": [
    "print('Building permuted index for HashPermutations')\n",
    "\n",
    "# Then update permuted index\n",
    "permutations.build_permuted_index()\n"
   ]
  },
  {
   "cell_type": "code",
   "execution_count": 10,
   "metadata": {},
   "outputs": [
    {
     "name": "stdout",
     "output_type": "stream",
     "text": [
      "Generate random data\n"
     ]
    }
   ],
   "source": [
    "print('Generate random data')\n",
    "\n",
    "# Get random query vector\n",
    "query = numpy.random.randn(DIM)\n"
   ]
  },
  {
   "cell_type": "code",
   "execution_count": 19,
   "metadata": {},
   "outputs": [
    {
     "name": "stdout",
     "output_type": "stream",
     "text": [
      "\n",
      "Neighbour distances with RandomBinaryProjectionTree:\n",
      "  -> Candidate count is 41\n",
      "Query took 0.000986 seconds\n",
      "  Data \t| Distance\n",
      "  35620  \t| 12.076558\n",
      "  37472  \t| 12.161507\n",
      "  72778  \t| 12.242319\n",
      "  37137  \t| 12.382099\n",
      "  27450  \t| 12.442067\n",
      "  46613  \t| 12.495322\n",
      "  12361  \t| 12.705276\n",
      "  44906  \t| 12.709231\n",
      "  24767  \t| 12.731053\n",
      "  59497  \t| 12.780457\n"
     ]
    }
   ],
   "source": [
    "# Do random query on engine 1\n",
    "print('\\nNeighbour distances with RandomBinaryProjectionTree:')\n",
    "print('  -> Candidate count is %d' % engine_rbpt.candidate_count(query))\n",
    "\n",
    "t0=time.time()\n",
    "results = engine_rbpt.neighbours(query)\n",
    "t1 = time.time()\n",
    "print('Query took %f seconds' % (t1-t0))\n",
    "\n",
    "print_results(results)\n"
   ]
  },
  {
   "cell_type": "code",
   "execution_count": 20,
   "metadata": {},
   "outputs": [
    {
     "name": "stdout",
     "output_type": "stream",
     "text": [
      "\n",
      "Neighbour distances with RandomBinaryProjections:\n",
      "  -> Candidate count is 4295\n",
      "Query took 0.032374 seconds\n",
      "  Data \t| Distance\n",
      "  90116  \t| 10.731020\n",
      "  19272  \t| 11.023388\n",
      "  52424  \t| 11.072005\n",
      "  93266  \t| 11.145858\n",
      "  77467  \t| 11.147064\n",
      "  29432  \t| 11.190778\n",
      "  42763  \t| 11.214849\n",
      "  52428  \t| 11.228893\n",
      "  1227  \t| 11.236811\n",
      "  79397  \t| 11.351124\n"
     ]
    }
   ],
   "source": [
    "# Do random query on engine 2\n",
    "print('\\nNeighbour distances with RandomBinaryProjections:')\n",
    "print('  -> Candidate count is %d' % engine.candidate_count(query))\n",
    "\n",
    "t0=time.time()\n",
    "results = engine.neighbours(query)\n",
    "t1 = time.time()\n",
    "print('Query took %f seconds' % (t1-t0))\n",
    "\n",
    "print_results(results)\n"
   ]
  },
  {
   "cell_type": "code",
   "execution_count": 21,
   "metadata": {},
   "outputs": [
    {
     "name": "stdout",
     "output_type": "stream",
     "text": [
      "\n",
      "Neighbour distances with HashPermutations:\n",
      "  -> Candidate count is 112\n",
      "Query took 0.003802 seconds\n",
      "  Data \t| Distance\n",
      "  64389  \t| 10.738450\n",
      "  67146  \t| 11.435970\n",
      "  77647  \t| 11.557859\n",
      "  79744  \t| 11.608142\n",
      "  26466  \t| 11.641168\n",
      "  37422  \t| 11.681307\n",
      "  60392  \t| 11.778838\n",
      "  7271  \t| 11.821237\n",
      "  26805  \t| 11.855554\n",
      "  87742  \t| 11.855994\n"
     ]
    }
   ],
   "source": [
    "# Do random query on engine 3\n",
    "print('\\nNeighbour distances with HashPermutations:')\n",
    "print('  -> Candidate count is %d' % engine_perm.candidate_count(query))\n",
    "\n",
    "t0=time.time()\n",
    "results = engine_perm.neighbours(query)\n",
    "t1 = time.time()\n",
    "print('Query took %f seconds' % (t1-t0))\n",
    "\n",
    "print_results(results)\n"
   ]
  },
  {
   "cell_type": "code",
   "execution_count": 22,
   "metadata": {},
   "outputs": [
    {
     "name": "stdout",
     "output_type": "stream",
     "text": [
      "\n",
      "Neighbour distances with HashPermutations2:\n",
      "  -> Candidate count is 1812\n",
      "Query took 0.019906 seconds\n",
      "  Data \t| Distance\n",
      "  49265  \t| 11.193011\n",
      "  19773  \t| 11.264696\n",
      "  67382  \t| 11.265784\n",
      "  21409  \t| 11.346261\n",
      "  3659  \t| 11.358474\n",
      "  66952  \t| 11.366375\n",
      "  58134  \t| 11.374732\n",
      "  84958  \t| 11.446421\n",
      "  61601  \t| 11.463584\n",
      "  55163  \t| 11.516852\n"
     ]
    }
   ],
   "source": [
    "# Do random query on engine 4\n",
    "print('\\nNeighbour distances with HashPermutations2:')\n",
    "print('  -> Candidate count is %d' % engine_perm2.candidate_count(query))\n",
    "\n",
    "t0=time.time()\n",
    "results = engine_perm2.neighbours(query)\n",
    "t1 = time.time()\n",
    "print('Query took %f seconds' % (t1-t0))\n",
    "\n",
    "print_results(results)\n"
   ]
  },
  {
   "cell_type": "code",
   "execution_count": 23,
   "metadata": {},
   "outputs": [
    {
     "name": "stdout",
     "output_type": "stream",
     "text": [
      "\n",
      "Real neighbour distances:\n",
      "Query took 0.599546 seconds\n",
      "  Data \t| Distance\n",
      "  92762  \t| 10.277807\n",
      "  71336  \t| 10.417020\n",
      "  63023  \t| 10.461655\n",
      "  45738  \t| 10.495865\n",
      "  86333  \t| 10.499976\n",
      "  84299  \t| 10.511342\n",
      "  47597  \t| 10.609366\n",
      "  57483  \t| 10.700567\n",
      "  90116  \t| 10.731020\n",
      "  59274  \t| 10.734705\n"
     ]
    }
   ],
   "source": [
    "# Real neighbours\n",
    "print('\\nReal neighbour distances:')\n",
    "\n",
    "\n",
    "dists=numpy.zeros(POINTS)\n",
    "t0 = time.time()\n",
    "for iter in range(POINTS):\n",
    "    dists[iter] = EuclideanDistance().distance(matrix[iter], query)\n",
    "dists = dists.reshape((-1,))\n",
    "dists_argsort = numpy.argsort(dists)\n",
    "t1 = time.time()\n",
    "print('Query took %f seconds' % (t1-t0))\n",
    "\n",
    "results = [(None, d, dists[d]) for d in dists_argsort[:10]]\n",
    "print_results(results)"
   ]
  },
  {
   "cell_type": "code",
   "execution_count": null,
   "metadata": {},
   "outputs": [],
   "source": []
  },
  {
   "cell_type": "code",
   "execution_count": null,
   "metadata": {},
   "outputs": [],
   "source": []
  }
 ],
 "metadata": {
  "kernelspec": {
   "display_name": "Environment (conda_python3)",
   "language": "python",
   "name": "conda_python3"
  },
  "language_info": {
   "codemirror_mode": {
    "name": "ipython",
    "version": 3
   },
   "file_extension": ".py",
   "mimetype": "text/x-python",
   "name": "python",
   "nbconvert_exporter": "python",
   "pygments_lexer": "ipython3",
   "version": "3.6.5"
  }
 },
 "nbformat": 4,
 "nbformat_minor": 2
}
