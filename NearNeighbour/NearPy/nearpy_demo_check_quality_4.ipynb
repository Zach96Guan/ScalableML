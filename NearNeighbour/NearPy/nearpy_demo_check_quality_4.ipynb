{
 "cells": [
  {
   "cell_type": "code",
   "execution_count": 1,
   "metadata": {},
   "outputs": [],
   "source": [
    "import numpy\n",
    "import scipy\n",
    "import unittest\n",
    "import time\n",
    "\n",
    "from nearpy import Engine\n",
    "from nearpy.distances import EuclideanDistance\n",
    "\n",
    "from nearpy.hashes import RandomDiscretizedProjections\n",
    "from nearpy.filters import NearestFilter, UniqueFilter\n"
   ]
  },
  {
   "cell_type": "code",
   "execution_count": 2,
   "metadata": {},
   "outputs": [],
   "source": [
    "# Dimension of feature space\n",
    "DIM = 100\n",
    "\n",
    "# Number of data points (dont do too much because of exact search)\n",
    "POINTS = 60000"
   ]
  },
  {
   "cell_type": "code",
   "execution_count": 3,
   "metadata": {},
   "outputs": [],
   "source": [
    "# We are looking for the ten closest neighbours\n",
    "nearest = NearestFilter(10)\n"
   ]
  },
  {
   "cell_type": "code",
   "execution_count": 4,
   "metadata": {},
   "outputs": [
    {
     "name": "stdout",
     "output_type": "stream",
     "text": [
      "*** engine init done ***\n"
     ]
    }
   ],
   "source": [
    "# Create engines for all configurations\n",
    "# Use four random projection_dim dimensional discretized projections\n",
    "bin_width=1.9\n",
    "\n",
    "projection_dim=3\n",
    "rdp1 = RandomDiscretizedProjections('rdp1', projection_dim, bin_width)\n",
    "rdp2 = RandomDiscretizedProjections('rdp2', projection_dim, bin_width)\n",
    "rdp3 = RandomDiscretizedProjections('rdp3', projection_dim, bin_width)\n",
    "rdp4 = RandomDiscretizedProjections('rdp4', projection_dim, bin_width)\n",
    "\n",
    "# Create engine with this configuration\n",
    "engine = Engine(DIM, lshashes=[rdp1, rdp2, rdp3, rdp4],distance=EuclideanDistance(), vector_filters=[nearest])\n",
    "\n"
   ]
  },
  {
   "cell_type": "code",
   "execution_count": 5,
   "metadata": {},
   "outputs": [
    {
     "name": "stdout",
     "output_type": "stream",
     "text": [
      "Creating data structure...\n",
      "Creating data structure took 2.395918 seconds\n"
     ]
    }
   ],
   "source": [
    "print('Creating data structure...')\n",
    "t0 = time.time()\n",
    "\n",
    "\n",
    "# First index some random vectors\n",
    "matrix = numpy.zeros((POINTS,DIM))\n",
    "for i in range(POINTS):\n",
    "    v = numpy.random.randn(DIM)\n",
    "    matrix[i] = v\n",
    "    engine.store_vector(v)\n",
    "\n",
    "t1 = time.time()\n",
    "print('Creating data structure took %f seconds' % (t1-t0))\n"
   ]
  },
  {
   "cell_type": "code",
   "execution_count": 6,
   "metadata": {},
   "outputs": [],
   "source": [
    "# Get random query vector\n",
    "query = numpy.random.randn(DIM)\n"
   ]
  },
  {
   "cell_type": "code",
   "execution_count": 7,
   "metadata": {},
   "outputs": [
    {
     "name": "stdout",
     "output_type": "stream",
     "text": [
      "\n",
      "Neighbour distances:\n",
      "  -> Candidate count is 26\n",
      "Query took 0.000793 seconds\n",
      "****************\n",
      "Number of candidates: 10\n",
      "[11.404850047781007, 11.610000697500837, 12.193398965709395, 12.535341549790449, 12.740385778022592, 12.774858833799984, 12.933667866062153, 12.993065647358753, 13.043384533820255, 13.105524955521723]\n"
     ]
    }
   ],
   "source": [
    "# Do random query\n",
    "print('\\nNeighbour distances:')\n",
    "print('  -> Candidate count is %d' % engine.candidate_count(query))\n",
    "\n",
    "t0 = time.time()\n",
    "results = engine.neighbours(query,distance=EuclideanDistance())\n",
    "t1 = time.time()\n",
    "print('Query took %f seconds' % (t1-t0))\n",
    "print('****************')\n",
    "\n",
    "print('Number of candidates:', len(results))\n",
    "dists = [x[2] for x in results]\n",
    "print(dists)\n"
   ]
  },
  {
   "cell_type": "code",
   "execution_count": 8,
   "metadata": {},
   "outputs": [
    {
     "name": "stdout",
     "output_type": "stream",
     "text": [
      "\n",
      " *** Calculate Real neighbour distances ***\n",
      "Query took 0.395305 seconds\n",
      "Exact distances: [9.91947442354612, 10.194353901779941, 10.303610234024957, 10.354799895913292, 10.395721699727675, 10.399367518093497, 10.432095987780727, 10.477137711801427, 10.510471907360508, 10.513392092286038]\n",
      "Max distance: 17.12067103978181\n"
     ]
    }
   ],
   "source": [
    "# Real neighbours\n",
    "print('\\n *** Calculate Real neighbour distances ***')\n",
    "query = query.reshape((DIM))\n",
    "\n",
    "dists=numpy.zeros(POINTS)\n",
    "t0 = time.time()\n",
    "for iter in range(POINTS):\n",
    "    dists[iter] = EuclideanDistance().distance(matrix[iter], query)\n",
    "dists = dists.reshape((-1,))\n",
    "dists = sorted(dists)\n",
    "t1 = time.time()\n",
    "print('Query took %f seconds' % (t1-t0))\n",
    "\n",
    "print('Exact distances:', dists[:10])\n",
    "\n",
    "print('Max distance:', dists[-1])\n",
    "\n",
    "\n"
   ]
  },
  {
   "cell_type": "code",
   "execution_count": null,
   "metadata": {},
   "outputs": [],
   "source": []
  }
 ],
 "metadata": {
  "kernelspec": {
   "display_name": "Environment (conda_python3)",
   "language": "python",
   "name": "conda_python3"
  },
  "language_info": {
   "codemirror_mode": {
    "name": "ipython",
    "version": 3
   },
   "file_extension": ".py",
   "mimetype": "text/x-python",
   "name": "python",
   "nbconvert_exporter": "python",
   "pygments_lexer": "ipython3",
   "version": "3.6.5"
  }
 },
 "nbformat": 4,
 "nbformat_minor": 2
}
