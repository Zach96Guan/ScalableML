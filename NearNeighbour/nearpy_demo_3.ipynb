{
 "cells": [
  {
   "cell_type": "code",
   "execution_count": 1,
   "metadata": {},
   "outputs": [],
   "source": [
    "import numpy\n",
    "import scipy\n",
    "import unittest\n",
    "import time\n",
    "\n",
    "from nearpy import Engine\n",
    "from nearpy.distances import CosineDistance\n",
    "\n",
    "from nearpy.hashes import RandomBinaryProjections, HashPermutations, HashPermutationMapper\n"
   ]
  },
  {
   "cell_type": "code",
   "execution_count": 2,
   "metadata": {},
   "outputs": [],
   "source": [
    "# Dimension of feature space\n",
    "DIM = 100\n",
    "\n",
    "# Number of data points (dont do too much because of exact search)\n",
    "POINTS = 20000"
   ]
  },
  {
   "cell_type": "code",
   "execution_count": 3,
   "metadata": {},
   "outputs": [
    {
     "name": "stdout",
     "output_type": "stream",
     "text": [
      "Performing indexing with HashPermutations...\n",
      "Indexing took 5.958319 seconds\n"
     ]
    }
   ],
   "source": [
    "print('Performing indexing with HashPermutations...')\n",
    "t0 = time.time()\n",
    "\n",
    "# Create permutations meta-hash\n",
    "permutations = HashPermutations('permut')\n",
    "\n",
    "# Create binary hash as child hash\n",
    "rbp_perm = RandomBinaryProjections('rbp_perm', 14)\n",
    "rbp_conf = {'num_permutation':50,'beam_size':10,'num_neighbour':100}\n",
    "\n",
    "# Add rbp as child hash of permutations hash\n",
    "permutations.add_child_hash(rbp_perm, rbp_conf)\n",
    "\n",
    "# Create engine\n",
    "engine_perm = Engine(DIM, lshashes=[permutations], distance=CosineDistance())\n",
    "\n",
    "# First index some random vectors\n",
    "matrix = numpy.zeros((POINTS,DIM))\n",
    "for i in range(POINTS):\n",
    "    v = numpy.random.randn(DIM)\n",
    "    matrix[i] = v\n",
    "    engine_perm.store_vector(v)\n",
    "\n",
    "# Then update permuted index\n",
    "permutations.build_permuted_index()\n",
    "\n",
    "t1 = time.time()\n",
    "print('Indexing took %f seconds' % (t1-t0))\n"
   ]
  },
  {
   "cell_type": "code",
   "execution_count": 4,
   "metadata": {},
   "outputs": [],
   "source": [
    "# Get random query vector\n",
    "query = numpy.random.randn(DIM)\n"
   ]
  },
  {
   "cell_type": "code",
   "execution_count": 6,
   "metadata": {},
   "outputs": [
    {
     "name": "stdout",
     "output_type": "stream",
     "text": [
      "\n",
      "Neighbour distances with HashPermutations:\n",
      "  -> Candidate count is 180\n",
      "[0.9500585913143319]\n"
     ]
    }
   ],
   "source": [
    "# Do random query on engine 3\n",
    "print('\\nNeighbour distances with HashPermutations:')\n",
    "print('  -> Candidate count is %d' % engine_perm.candidate_count(query))\n",
    "results = engine_perm.neighbours(query)\n",
    "dists = [x[2] for x in results]\n",
    "print(dists)\n"
   ]
  },
  {
   "cell_type": "code",
   "execution_count": 17,
   "metadata": {},
   "outputs": [
    {
     "name": "stdout",
     "output_type": "stream",
     "text": [
      "\n",
      "Real neighbour distances:\n",
      "[-37.760793231954096, -35.81055212993542, -33.51840944458068, -33.099759059661324, -32.915466819374444, -31.777265986663686, -31.6199439021197, -31.613155317134144, -30.867763640968043, -30.711106210538084]\n"
     ]
    }
   ],
   "source": [
    "# Real neighbours\n",
    "print('\\nReal neighbour distances:')\n",
    "query = query.reshape((DIM))\n",
    "dists = CosineDistance().distance(matrix, query)\n",
    "dists = dists.reshape((-1,))\n",
    "dists = sorted(dists)\n",
    "print(dists[:10])\n",
    "\n"
   ]
  },
  {
   "cell_type": "code",
   "execution_count": 7,
   "metadata": {},
   "outputs": [
    {
     "name": "stdout",
     "output_type": "stream",
     "text": [
      "\n",
      "Performing indexing with HashPermutationMapper...\n",
      "Indexing took 3.477103 seconds\n"
     ]
    }
   ],
   "source": [
    "print('\\nPerforming indexing with HashPermutationMapper...')\n",
    "t0 = time.time()\n",
    "\n",
    "# Create permutations meta-hash\n",
    "permutations2 = HashPermutationMapper('permut2')\n",
    "\n",
    "# Create binary hash as child hash\n",
    "rbp_perm2 = RandomBinaryProjections('rbp_perm2', 14)\n",
    "\n",
    "# Add rbp as child hash of permutations hash\n",
    "permutations2.add_child_hash(rbp_perm2)\n",
    "\n",
    "# Create engine\n",
    "engine_perm2 = Engine(DIM, lshashes=[permutations2], distance=CosineDistance())\n",
    "\n",
    "# First index some random vectors\n",
    "matrix = numpy.zeros((POINTS,DIM))\n",
    "for i in range(POINTS):\n",
    "    v = numpy.random.randn(DIM)\n",
    "    matrix[i] = v\n",
    "    engine_perm2.store_vector(v)\n",
    "\n",
    "t1 = time.time()\n",
    "print('Indexing took %f seconds' % (t1-t0))\n"
   ]
  },
  {
   "cell_type": "code",
   "execution_count": 8,
   "metadata": {},
   "outputs": [],
   "source": [
    "# Get random query vector\n",
    "query = numpy.random.randn(DIM)\n"
   ]
  },
  {
   "cell_type": "code",
   "execution_count": 9,
   "metadata": {},
   "outputs": [
    {
     "name": "stdout",
     "output_type": "stream",
     "text": [
      "\n",
      "Neighbour distances with HashPermutationMapper:\n",
      "  -> Candidate count is 142\n",
      "[0.8792594766780438]\n"
     ]
    }
   ],
   "source": [
    "# Do random query on engine 4\n",
    "print('\\nNeighbour distances with HashPermutationMapper:')\n",
    "print('  -> Candidate count is %d' % engine_perm2.candidate_count(query))\n",
    "results = engine_perm2.neighbours(query)\n",
    "dists = [x[2] for x in results]\n",
    "print(dists)\n"
   ]
  },
  {
   "cell_type": "code",
   "execution_count": 10,
   "metadata": {},
   "outputs": [
    {
     "name": "stdout",
     "output_type": "stream",
     "text": [
      "\n",
      "Real neighbour distances:\n",
      "[-37.54304656294086, -37.23739270853423, -33.58340648998262, -33.57368828652864, -33.38211030602349, -33.37605248065024, -33.11079989791898, -32.460870111359824, -32.40499228871257, -32.20875773928526]\n"
     ]
    }
   ],
   "source": [
    "# Real neighbours\n",
    "print('\\nReal neighbour distances:')\n",
    "query = query.reshape((DIM))\n",
    "dists = CosineDistance().distance(matrix,query)\n",
    "dists = dists.reshape((-1,))\n",
    "dists = sorted(dists)\n",
    "print(dists[:10])\n"
   ]
  },
  {
   "cell_type": "code",
   "execution_count": 11,
   "metadata": {},
   "outputs": [
    {
     "name": "stdout",
     "output_type": "stream",
     "text": [
      "\n",
      "Performing indexing with multiple binary hashes...\n",
      "Indexing took 2.943007 seconds\n"
     ]
    }
   ],
   "source": [
    "print('\\nPerforming indexing with multiple binary hashes...')\n",
    "t0 = time.time()\n",
    "\n",
    "hashes = []\n",
    "for k in range(20):\n",
    "    hashes.append(RandomBinaryProjections('rbp_%d' % k, 10))\n",
    "\n",
    "# Create engine\n",
    "engine_rbps = Engine(DIM, lshashes=hashes, distance=CosineDistance())\n",
    "\n",
    "# First index some random vectors\n",
    "matrix = numpy.zeros((POINTS,DIM))\n",
    "for i in range(POINTS):\n",
    "    v = numpy.random.randn(DIM)\n",
    "    matrix[i] = v\n",
    "    engine_rbps.store_vector(v)\n",
    "\n",
    "t1 = time.time()\n",
    "print('Indexing took %f seconds' % (t1-t0))\n"
   ]
  },
  {
   "cell_type": "code",
   "execution_count": 12,
   "metadata": {},
   "outputs": [],
   "source": [
    "# Get random query vector\n",
    "query = numpy.random.randn(DIM)\n"
   ]
  },
  {
   "cell_type": "code",
   "execution_count": 13,
   "metadata": {},
   "outputs": [
    {
     "name": "stdout",
     "output_type": "stream",
     "text": [
      "\n",
      "Neighbour distances with multiple binary hashes:\n",
      "  -> Candidate count is 501\n",
      "[1.1285111465504176]\n"
     ]
    }
   ],
   "source": [
    "# Do random query on engine 4\n",
    "print('\\nNeighbour distances with multiple binary hashes:')\n",
    "print('  -> Candidate count is %d' % engine_rbps.candidate_count(query))\n",
    "results = engine_rbps.neighbours(query)\n",
    "dists = [x[2] for x in results]\n",
    "print(dists)\n"
   ]
  },
  {
   "cell_type": "code",
   "execution_count": 14,
   "metadata": {},
   "outputs": [
    {
     "name": "stdout",
     "output_type": "stream",
     "text": [
      "\n",
      "Real neighbour distances:\n",
      "[-34.468639258530004, -32.91035631057431, -32.02828864782643, -30.396000044556228, -29.796426389746387, -29.59224284276246, -29.229534269001558, -28.939848503372616, -28.63480931404359, -28.351543692714177]\n"
     ]
    }
   ],
   "source": [
    "# Real neighbours\n",
    "print('\\nReal neighbour distances:')\n",
    "query = query.reshape((DIM))\n",
    "dists = CosineDistance().distance(matrix,query)\n",
    "dists = dists.reshape((-1,))\n",
    "dists = sorted(dists)\n",
    "print(dists[:10])\n"
   ]
  },
  {
   "cell_type": "code",
   "execution_count": null,
   "metadata": {},
   "outputs": [],
   "source": []
  }
 ],
 "metadata": {
  "kernelspec": {
   "display_name": "Environment (conda_python3)",
   "language": "python",
   "name": "conda_python3"
  },
  "language_info": {
   "codemirror_mode": {
    "name": "ipython",
    "version": 3
   },
   "file_extension": ".py",
   "mimetype": "text/x-python",
   "name": "python",
   "nbconvert_exporter": "python",
   "pygments_lexer": "ipython3",
   "version": "3.6.5"
  }
 },
 "nbformat": 4,
 "nbformat_minor": 2
}
