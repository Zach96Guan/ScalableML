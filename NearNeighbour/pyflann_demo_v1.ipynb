{
 "cells": [
  {
   "cell_type": "code",
   "execution_count": 4,
   "metadata": {},
   "outputs": [],
   "source": [
    "# The pip install only works with python2!\n",
    "#!pip install pyflann"
   ]
  },
  {
   "cell_type": "code",
   "execution_count": 5,
   "metadata": {},
   "outputs": [],
   "source": [
    "from pyflann import *\n",
    "import numpy as np"
   ]
  },
  {
   "cell_type": "code",
   "execution_count": 17,
   "metadata": {},
   "outputs": [
    {
     "name": "stdout",
     "output_type": "stream",
     "text": [
      "(3, 5, '-dimensional points')\n"
     ]
    }
   ],
   "source": [
    "dataset = np.array(\n",
    "    [[1., 1, 1, 2, 3],\n",
    "     [10, 10, 10, 3, 2],\n",
    "     [100, 100, 2, 30, 1]\n",
    "     ])\n",
    "\n",
    "print(dataset.shape[0],dataset.shape[1],'-dimensional points')"
   ]
  },
  {
   "cell_type": "code",
   "execution_count": 18,
   "metadata": {},
   "outputs": [
    {
     "name": "stdout",
     "output_type": "stream",
     "text": [
      "(2, 5)\n"
     ]
    }
   ],
   "source": [
    "testset = np.array(\n",
    "    [[1., 1, 1, 1, 1],\n",
    "     [90, 90, 10, 10, 1]\n",
    "     ])\n",
    "\n",
    "print(testset.shape)"
   ]
  },
  {
   "cell_type": "code",
   "execution_count": 19,
   "metadata": {},
   "outputs": [
    {
     "name": "stdout",
     "output_type": "stream",
     "text": [
      "Help on method nn in module pyflann.index:\n",
      "\n",
      "nn(self, pts, qpts, num_neighbors=1, **kwargs) method of pyflann.index.FLANN instance\n",
      "    Returns the num_neighbors nearest points in dataset for each point\n",
      "    in testset.\n",
      "\n"
     ]
    }
   ],
   "source": [
    "help(flann.nn)"
   ]
  },
  {
   "cell_type": "code",
   "execution_count": 11,
   "metadata": {},
   "outputs": [],
   "source": [
    "flann = FLANN()\n",
    "result, dists = flann.nn(dataset, testset, 2, algorithm=\"kmeans\", branching=32, iterations=7, checks=16)"
   ]
  },
  {
   "cell_type": "code",
   "execution_count": 12,
   "metadata": {},
   "outputs": [
    {
     "name": "stdout",
     "output_type": "stream",
     "text": [
      "[[0 1]\n",
      " [2 1]]\n"
     ]
    }
   ],
   "source": [
    "print(result)"
   ]
  },
  {
   "cell_type": "code",
   "execution_count": 13,
   "metadata": {},
   "outputs": [
    {
     "name": "stdout",
     "output_type": "stream",
     "text": [
      "[[5.000e+00 2.480e+02]\n",
      " [6.640e+02 1.285e+04]]\n"
     ]
    }
   ],
   "source": [
    "print(dists)"
   ]
  },
  {
   "cell_type": "code",
   "execution_count": 8,
   "metadata": {},
   "outputs": [],
   "source": [
    "dataset = np.random.rand(10000, 128)\n",
    "testset = np.random.rand(1000, 128)"
   ]
  },
  {
   "cell_type": "code",
   "execution_count": null,
   "metadata": {},
   "outputs": [],
   "source": []
  },
  {
   "cell_type": "code",
   "execution_count": 9,
   "metadata": {},
   "outputs": [
    {
     "name": "stdout",
     "output_type": "stream",
     "text": [
      "[[6972 8346  117 2989 3677]\n",
      " [7404 3760 7248 8049  282]\n",
      " [9651 2418 6997 7807 1087]\n",
      " ...\n",
      " [7966 1248 4883   93 4559]\n",
      " [1747 4530 2445  511 5351]\n",
      " [1267  919 6303 9067 5849]]\n",
      "[[17.27968222 17.5466392  18.10378828 18.27071612 18.42279511]\n",
      " [15.66722268 15.69641734 16.05380229 16.3316637  16.79788037]\n",
      " [14.52281806 17.44009111 17.62912949 17.64109503 17.73273139]\n",
      " ...\n",
      " [16.44902738 18.22033482 19.06106755 19.14138765 19.22337921]\n",
      " [15.60080284 16.16688225 16.97112321 17.10837767 17.18038913]\n",
      " [15.68317774 15.97336985 16.15842306 16.229877   16.56302997]]\n"
     ]
    }
   ],
   "source": [
    "flann = FLANN()\n",
    "result, dists = flann.nn(dataset, testset, 5, algorithm=\"kmeans\", branching=32, iterations=7, checks=16)\n",
    "\n",
    "print(result)\n",
    "print(dists)"
   ]
  },
  {
   "cell_type": "code",
   "execution_count": null,
   "metadata": {},
   "outputs": [],
   "source": []
  }
 ],
 "metadata": {
  "kernelspec": {
   "display_name": "Environment (conda_python2)",
   "language": "python",
   "name": "conda_python2"
  },
  "language_info": {
   "codemirror_mode": {
    "name": "ipython",
    "version": 2
   },
   "file_extension": ".py",
   "mimetype": "text/x-python",
   "name": "python",
   "nbconvert_exporter": "python",
   "pygments_lexer": "ipython2",
   "version": "2.7.15"
  }
 },
 "nbformat": 4,
 "nbformat_minor": 2
}
