{
 "cells": [
  {
   "cell_type": "markdown",
   "metadata": {},
   "source": [
    "### FLANN - Fast Library for Approximate Nearest Neighbors"
   ]
  },
  {
   "cell_type": "markdown",
   "metadata": {},
   "source": [
    "#### For more information, see e.g. https://www.cs.ubc.ca/research/flann/\n",
    "\n",
    "#### Manual: http://www.cs.ubc.ca/research/flann/uploads/FLANN/flann_manual-1.8.4.pdf\n",
    "\n",
    "#### The C++ version has LSH implementation too, but this seems to be missing from the python bindings. "
   ]
  },
  {
   "cell_type": "code",
   "execution_count": 1,
   "metadata": {},
   "outputs": [],
   "source": [
    "# The pip install only works with python2!\n",
    "#!pip install pyflann"
   ]
  },
  {
   "cell_type": "code",
   "execution_count": 2,
   "metadata": {},
   "outputs": [],
   "source": [
    "from pyflann import *\n",
    "import numpy as np\n",
    "import time"
   ]
  },
  {
   "cell_type": "code",
   "execution_count": 3,
   "metadata": {},
   "outputs": [
    {
     "name": "stdout",
     "output_type": "stream",
     "text": [
      "(4, 5, '-dimensional points')\n"
     ]
    }
   ],
   "source": [
    "dataset = np.array(\n",
    "    [[1., 1, 1, 2, 3],\n",
    "     [10, 10, 10, 3, 2],\n",
    "     [100, 100, 2, 30, 1],\n",
    "     [40, 10, 22, 30, 9]\n",
    "     ])\n",
    "\n",
    "print(dataset.shape[0],dataset.shape[1],'-dimensional points')"
   ]
  },
  {
   "cell_type": "code",
   "execution_count": 4,
   "metadata": {},
   "outputs": [
    {
     "name": "stdout",
     "output_type": "stream",
     "text": [
      "(2, 5)\n"
     ]
    }
   ],
   "source": [
    "queryset = np.array(\n",
    "    [[1., 1, 1, 1, 1],\n",
    "     [90, 90, 10, 10, 1]\n",
    "     ])\n",
    "\n",
    "print(queryset.shape)"
   ]
  },
  {
   "cell_type": "code",
   "execution_count": 5,
   "metadata": {},
   "outputs": [],
   "source": [
    "flann = FLANN()\n",
    "result, dists = flann.nn(dataset, queryset, 3, algorithm=\"kmeans\", branching=32, iterations=7, checks=16)"
   ]
  },
  {
   "cell_type": "code",
   "execution_count": 6,
   "metadata": {},
   "outputs": [
    {
     "name": "stdout",
     "output_type": "stream",
     "text": [
      "Help on method nn in module pyflann.index:\n",
      "\n",
      "nn(self, pts, qpts, num_neighbors=1, **kwargs) method of pyflann.index.FLANN instance\n",
      "    Returns the num_neighbors nearest points in dataset for each point\n",
      "    in testset.\n",
      "\n"
     ]
    }
   ],
   "source": [
    "help(flann.nn)"
   ]
  },
  {
   "cell_type": "code",
   "execution_count": 7,
   "metadata": {},
   "outputs": [
    {
     "name": "stdout",
     "output_type": "stream",
     "text": [
      "[[0 1 3]\n",
      " [2 3 1]]\n"
     ]
    }
   ],
   "source": [
    "print(result)\n",
    "# the indices of the 3 nearest neighbours of the 2 query points"
   ]
  },
  {
   "cell_type": "code",
   "execution_count": 8,
   "metadata": {},
   "outputs": [
    {
     "name": "stdout",
     "output_type": "stream",
     "text": [
      "[[5.000e+00 2.480e+02 2.948e+03]\n",
      " [6.640e+02 9.508e+03 1.285e+04]]\n"
     ]
    }
   ],
   "source": [
    "print(dists)\n",
    "# the distences from the the 2 query points to its 3 nearest neighbours in the dataset"
   ]
  },
  {
   "cell_type": "code",
   "execution_count": 9,
   "metadata": {},
   "outputs": [],
   "source": [
    "dataset = np.random.rand(10000, 128)\n",
    "queryset = np.random.rand(1000, 128)"
   ]
  },
  {
   "cell_type": "code",
   "execution_count": 10,
   "metadata": {},
   "outputs": [],
   "source": [
    "flann = FLANN()\n",
    "result, dists = flann.nn(dataset, queryset, 5, algorithm=\"kmeans\", branching=32, iterations=7, checks=16)"
   ]
  },
  {
   "cell_type": "code",
   "execution_count": 11,
   "metadata": {},
   "outputs": [],
   "source": [
    "#this would take a few minutes to run ...\n",
    "#params = flann.build_index(dataset, algorithm=\"autotuned\", target_precision=0.5, log_level = \"info\");\n",
    "#print params\n",
    "#result, dists = flann.nn_index(queryset,5, checks=params[\"checks\"]);"
   ]
  },
  {
   "cell_type": "code",
   "execution_count": 12,
   "metadata": {},
   "outputs": [
    {
     "name": "stdout",
     "output_type": "stream",
     "text": [
      "(1000, 5)\n",
      "[[3541 2746 9940 7916 6447]\n",
      " [8835  660 7696 7303 2088]\n",
      " [8763 1758 6792 5828 6278]\n",
      " ...\n",
      " [8104 7879 4497 3143 6283]\n",
      " [5343 4939 4004 2753 6616]\n",
      " [ 227 4867  761 3556 6675]]\n"
     ]
    }
   ],
   "source": [
    "print(result.shape)\n",
    "print(result)"
   ]
  },
  {
   "cell_type": "code",
   "execution_count": 13,
   "metadata": {},
   "outputs": [
    {
     "name": "stdout",
     "output_type": "stream",
     "text": [
      "(1000, 5)\n",
      "[[16.33106196 16.38779936 17.03451737 18.49504967 18.76710884]\n",
      " [15.38906065 16.35455037 16.51432489 17.64265026 17.82126537]\n",
      " [18.79513261 19.91920865 20.20926194 20.78662022 20.85424496]\n",
      " ...\n",
      " [14.04298852 15.56481968 16.68514896 17.11880522 17.31772277]\n",
      " [15.84126084 16.52776562 17.0601385  17.15884764 17.22149323]\n",
      " [16.52784255 17.36488808 17.40824558 17.4163009  17.48064692]]\n"
     ]
    }
   ],
   "source": [
    "print(dists.shape)\n",
    "print(dists)"
   ]
  },
  {
   "cell_type": "code",
   "execution_count": 14,
   "metadata": {},
   "outputs": [
    {
     "name": "stdout",
     "output_type": "stream",
     "text": [
      "Query took 0.123095 seconds\n",
      "(1000, 5)\n",
      "(1000, 5)\n"
     ]
    }
   ],
   "source": [
    "t0=time.time()\n",
    "result, dists = flann.nn(dataset, queryset, 5, algorithm=\"kdtree\", trees=4)\n",
    "t1 = time.time()\n",
    "print('Query took %f seconds' % (t1-t0))\n",
    "\n",
    "print(result.shape)\n",
    "print(dists.shape)\n"
   ]
  },
  {
   "cell_type": "code",
   "execution_count": 15,
   "metadata": {},
   "outputs": [
    {
     "name": "stdout",
     "output_type": "stream",
     "text": [
      "Query took 1.116628 seconds\n",
      "(1000, 5)\n",
      "(1000, 5)\n"
     ]
    }
   ],
   "source": [
    "t0=time.time()\n",
    "result, dists = flann.nn(dataset, queryset, 5, algorithm=\"linear\")\n",
    "t1 = time.time()\n",
    "print('Query took %f seconds' % (t1-t0))\n",
    "\n",
    "print(result.shape)\n",
    "print(dists.shape)"
   ]
  },
  {
   "cell_type": "code",
   "execution_count": null,
   "metadata": {},
   "outputs": [],
   "source": []
  }
 ],
 "metadata": {
  "kernelspec": {
   "display_name": "Environment (conda_python2)",
   "language": "python",
   "name": "conda_python2"
  },
  "language_info": {
   "codemirror_mode": {
    "name": "ipython",
    "version": 2
   },
   "file_extension": ".py",
   "mimetype": "text/x-python",
   "name": "python",
   "nbconvert_exporter": "python",
   "pygments_lexer": "ipython2",
   "version": "2.7.15"
  }
 },
 "nbformat": 4,
 "nbformat_minor": 2
}
