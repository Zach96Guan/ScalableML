{
 "cells": [
  {
   "cell_type": "markdown",
   "metadata": {},
   "source": [
    "Based on: \n",
    "    https://github.com/asdspal/dimRed/blob/master/tsne.ipynb"
   ]
  },
  {
   "cell_type": "code",
   "execution_count": 1,
   "metadata": {
    "collapsed": false
   },
   "outputs": [
    {
     "data": {
      "text/html": [
       "\n",
       "        <div>\n",
       "            <p><b>SparkContext</b></p>\n",
       "\n",
       "            <p><a href=\"http://ec2-18-224-45-143.us-east-2.compute.amazonaws.com:4040\">Spark UI</a></p>\n",
       "\n",
       "            <dl>\n",
       "              <dt>Version</dt>\n",
       "                <dd><code>v2.4.0</code></dd>\n",
       "              <dt>Master</dt>\n",
       "                <dd><code>spark://ec2-18-224-45-143.us-east-2.compute.amazonaws.com:7077</code></dd>\n",
       "              <dt>AppName</dt>\n",
       "                <dd><code>PySparkShell</code></dd>\n",
       "            </dl>\n",
       "        </div>\n",
       "        "
      ],
      "text/plain": [
       "<SparkContext master=spark://ec2-18-224-45-143.us-east-2.compute.amazonaws.com:7077 appName=PySparkShell>"
      ]
     },
     "execution_count": 1,
     "metadata": {},
     "output_type": "execute_result"
    }
   ],
   "source": [
    "sc"
   ]
  },
  {
   "cell_type": "code",
   "execution_count": 2,
   "metadata": {
    "collapsed": true
   },
   "outputs": [],
   "source": [
    "# necessary imports\n",
    "from sklearn import datasets\n",
    "from pyspark.sql import SQLContext as SQC\n",
    "from pyspark.ml.linalg import Vectors, VectorUDT\n",
    "from pyspark.mllib.linalg.distributed import IndexedRowMatrix , IndexedRow\n",
    "\n",
    "from pyspark.sql.types import *\n",
    "from pyspark.sql.functions import udf, struct, collect_list, lit,col\n",
    "import math as m\n",
    "import numpy as np"
   ]
  },
  {
   "cell_type": "code",
   "execution_count": 3,
   "metadata": {
    "collapsed": false
   },
   "outputs": [],
   "source": [
    "sqlContext = SQC(sc)"
   ]
  },
  {
   "cell_type": "code",
   "execution_count": 4,
   "metadata": {
    "collapsed": false
   },
   "outputs": [
    {
     "data": {
      "text/plain": [
       "(150, 4)"
      ]
     },
     "execution_count": 4,
     "metadata": {},
     "output_type": "execute_result"
    }
   ],
   "source": [
    "# read the dataset\n",
    "iris = datasets.load_iris()\n",
    "iris.data.shape"
   ]
  },
  {
   "cell_type": "code",
   "execution_count": 5,
   "metadata": {
    "collapsed": false
   },
   "outputs": [],
   "source": [
    "iris_rdd = sc.parallelize(iris.data).zipWithIndex().map(lambda x:(x[1], Vectors.dense(x[0])))\n",
    "iris_df  = sqlContext.createDataFrame(iris_rdd, [\"id\", \"features\"])\n",
    "n,p = iris.data.shape\n",
    "n_dim = 2\n"
   ]
  },
  {
   "cell_type": "code",
   "execution_count": 7,
   "metadata": {
    "collapsed": false
   },
   "outputs": [
    {
     "name": "stdout",
     "output_type": "stream",
     "text": [
      "+---+-----------------+\n",
      "| id|         features|\n",
      "+---+-----------------+\n",
      "|  0|[5.1,3.5,1.4,0.2]|\n",
      "|  1|[4.9,3.0,1.4,0.2]|\n",
      "|  2|[4.7,3.2,1.3,0.2]|\n",
      "|  3|[4.6,3.1,1.5,0.2]|\n",
      "|  4|[5.0,3.6,1.4,0.2]|\n",
      "|  5|[5.4,3.9,1.7,0.4]|\n",
      "|  6|[4.6,3.4,1.4,0.3]|\n",
      "|  7|[5.0,3.4,1.5,0.2]|\n",
      "|  8|[4.4,2.9,1.4,0.2]|\n",
      "|  9|[4.9,3.1,1.5,0.1]|\n",
      "| 10|[5.4,3.7,1.5,0.2]|\n",
      "| 11|[4.8,3.4,1.6,0.2]|\n",
      "| 12|[4.8,3.0,1.4,0.1]|\n",
      "| 13|[4.3,3.0,1.1,0.1]|\n",
      "| 14|[5.8,4.0,1.2,0.2]|\n",
      "| 15|[5.7,4.4,1.5,0.4]|\n",
      "| 16|[5.4,3.9,1.3,0.4]|\n",
      "| 17|[5.1,3.5,1.4,0.3]|\n",
      "| 18|[5.7,3.8,1.7,0.3]|\n",
      "| 19|[5.1,3.8,1.5,0.3]|\n",
      "+---+-----------------+\n",
      "only showing top 20 rows\n",
      "\n"
     ]
    }
   ],
   "source": [
    "iris_df.show()"
   ]
  },
  {
   "cell_type": "code",
   "execution_count": 8,
   "metadata": {
    "collapsed": false
   },
   "outputs": [
    {
     "data": {
      "text/plain": [
       "150"
      ]
     },
     "execution_count": 8,
     "metadata": {},
     "output_type": "execute_result"
    }
   ],
   "source": [
    "iris_df.count()"
   ]
  },
  {
   "cell_type": "code",
   "execution_count": 9,
   "metadata": {
    "collapsed": true
   },
   "outputs": [],
   "source": [
    "def weight(x, avg):\n",
    "    \n",
    "    if int(x)==1:\n",
    "        return(0.0)\n",
    "    elif x>2.5*avg:\n",
    "        return(x)\n",
    "    else:\n",
    "        return(0.0)\n",
    "\n",
    "    \n",
    "def sort_list(x):\n",
    "    \n",
    "    y = sorted(x, key = lambda x: x[0])\n",
    "    y = [s[1] for s in y]\n",
    "    return(y)\n"
   ]
  },
  {
   "cell_type": "code",
   "execution_count": 10,
   "metadata": {
    "collapsed": true
   },
   "outputs": [],
   "source": [
    "# calculate the euclidean distance\n",
    "udf_dist = udf(lambda x, y:  float(x.squared_distance(y)), DoubleType())\n",
    "\n",
    "udf_weight = udf(weight, DoubleType())\n",
    "\n",
    "# sort the distances according to id\n",
    "udf_sort = udf(sort_list, ArrayType(DoubleType()))\n"
   ]
  },
  {
   "cell_type": "code",
   "execution_count": 11,
   "metadata": {
    "collapsed": true
   },
   "outputs": [],
   "source": [
    "# create the function to calculate the eucidean distances vector for each point\n",
    "def dist_df(X_df):\n",
    "    \n",
    "    X_2 = X_df.crossJoin(X_df ).toDF('x_id', 'x_feature', 'y_id', 'y_feature')\n",
    "    X_dist = X_2.withColumn(\"sim\", udf_dist(X_2.x_feature, X_2.y_feature))\n",
    "    avg = X_dist.groupBy().mean(\"sim\").collect()[0][0]\n",
    "\n",
    "    X_dist = X_dist.drop(\"x_feature\",\"y_feature\")\n",
    "\n",
    "    nameCol = struct([name for name in [\"y_id\", \"sim\"]]).alias(\"map\")\n",
    "    X_dist = X_dist.select(\"x_id\", nameCol)\n",
    "    X_dist  = X_dist.groupby(\"x_id\").agg(collect_list(\"map\"))\n",
    "    Dist = X_dist.withColumn(\"sims\", udf_sort(\"collect_list(map)\")).drop(\"collect_list(map)\")\n",
    "    \n",
    "    return(Dist.select(col(\"x_id\").alias(\"id\"),col(\"sims\").alias(\"Dist\")))\n"
   ]
  },
  {
   "cell_type": "code",
   "execution_count": 12,
   "metadata": {
    "collapsed": true
   },
   "outputs": [],
   "source": [
    "DF_dist = dist_df(iris_df)\n",
    "\n",
    "# entropy and p calculation is same as defined above\n"
   ]
  },
  {
   "cell_type": "code",
   "execution_count": 13,
   "metadata": {
    "collapsed": true
   },
   "outputs": [],
   "source": [
    "def entropy(dist, beta):\n",
    "    \n",
    "    \n",
    "    p = np.exp(-dist*beta)\n",
    "    \n",
    "    sum_p = p.sum()\n",
    "    p = p/sum_p\n",
    "    \n",
    "    res = (p*np.log(p)).sum()\n",
    "    \n",
    "    return(-res, p)\n",
    "\n",
    "def get_p(dists, perplexity,i):\n",
    "    dists = np.array(dists)\n",
    "    beta_min = float(\"-inf\")\n",
    "    beta_max = float(\"inf\")\n",
    "    log_u = np.log(30)\n",
    "    dists = np.delete(dists,[i])\n",
    "    func = lambda x: entropy(dists, x)\n",
    "    \n",
    "    beta = 1.0\n",
    "    \n",
    "    f1,p = func(beta)\n",
    "    \n",
    "    iter = 0\n",
    "    diff = f1-log_u\n",
    "    while(True):\n",
    "        if np.abs(diff) < 1e-5:\n",
    "            \n",
    "            p = np.insert(p,i,0)\n",
    "            \n",
    "            return(p.tolist())\n",
    "        \n",
    "        if diff > 0.0:\n",
    "        \n",
    "            beta_min = beta\n",
    "            if beta_max == np.inf or beta_max == -np.inf:\n",
    "                beta *= 2.0\n",
    "            else:\n",
    "                beta = (beta + beta_max)/2.0\n",
    "        else:\n",
    "            beta_max = beta\n",
    "            if beta_min == np.inf or beta_min == -np.inf:\n",
    "                beta /= 2.0\n",
    "    \n",
    "\n",
    "            else:\n",
    "                beta = (beta + beta_min) / 2.0\n",
    "        \n",
    "        iter += 1\n",
    "        f1,p = func(beta)\n",
    "        diff = f1-log_u\n",
    "        if iter > 50:\n",
    "            p = np.insert(p,i,0)\n",
    "            \n",
    "            return(p.tolist())\n"
   ]
  },
  {
   "cell_type": "code",
   "execution_count": 14,
   "metadata": {
    "collapsed": true
   },
   "outputs": [],
   "source": [
    "udf_pi = udf(get_p, ArrayType(DoubleType()))\n",
    "\n",
    "DF = DF_dist.withColumn(\"P\", udf_pi(\"Dist\",lit(30),\"id\")).drop(\"Dist\")\n",
    "\n",
    "# change pij to symmetric probability distribution\n",
    "\n",
    "P_bm = IndexedRowMatrix(DF.select(\"id\",\"P\").rdd.map(lambda x: IndexedRow(x.id, x.P))).toBlockMatrix(10,10)\n",
    "P = P_bm.add(P_bm.transpose())\n",
    "\n",
    "udf_sum = udf(lambda x: float(np.sum(x)), DoubleType())\n"
   ]
  },
  {
   "cell_type": "code",
   "execution_count": 15,
   "metadata": {
    "collapsed": true
   },
   "outputs": [],
   "source": [
    "DF = (P.toIndexedRowMatrix().rows.map(lambda x:(x.index, x.vector) ).toDF([\"id\",\"P\"])\n",
    "                           .withColumn(\"Psum\",udf_sum(\"P\")))\n",
    "\n",
    "# normalize the P matrix\n",
    "Psum  = DF.groupBy().sum(\"Psum\").collect()[0][\"sum(Psum)\"]\n",
    "\n",
    "udf_divide = udf(lambda x,Psum:(np.array(x)/Psum).tolist(), ArrayType(DoubleType()))\n",
    "DF = DF.withColumn(\"P\", udf_divide(\"P\",lit(Psum))).drop(\"Psum\")\n",
    "\n",
    "# ransom sample for the intial Y\n",
    "np.random.seed(100)\n"
   ]
  },
  {
   "cell_type": "code",
   "execution_count": 16,
   "metadata": {
    "collapsed": true
   },
   "outputs": [],
   "source": [
    "Y = np.random.rand(n,n_dim).tolist()\n",
    "Y_rdd = sc.parallelize(Y).zipWithIndex()\n",
    "\n",
    "Y_df = spark.createDataFrame(Y_rdd,[\"Y\",\"_id\"])\n",
    "\n",
    "DF = DF.join(Y_df,Y_df[\"_id\"]==DF[\"id\"]).drop(\"_id\")\n",
    "\n"
   ]
  },
  {
   "cell_type": "code",
   "execution_count": 17,
   "metadata": {
    "collapsed": true
   },
   "outputs": [],
   "source": [
    "def sort_foo(x):\n",
    "    \n",
    "    x = sorted(x, key = lambda y:y[0])\n",
    "    dists = list(map(lambda y:y[1][0], x))\n",
    "    q = list(map(lambda y:1/(1 + y**2), dists))\n",
    "    qsum  = float(np.sum(q))\n",
    "    subs = list(map(lambda y:y[1][1], x))\n",
    "    return([qsum, q, subs])\n",
    "\n",
    "# function to calculate the q_ij from Yi and Yj\n"
   ]
  },
  {
   "cell_type": "code",
   "execution_count": 18,
   "metadata": {
    "collapsed": true
   },
   "outputs": [],
   "source": [
    "def Q_sub(df_Y):\n",
    "    \n",
    "    df2 = (df_Y.select(col(\"id\").alias(\"id1\"),col(\"features\").alias(\"features1\")).\n",
    "            crossJoin(df_Y.select(col(\"id\").alias(\"id2\"),col(\"features\").alias(\"features2\"))))\n",
    "\n",
    "    udf_dist = udf(lambda x, y:  float(np.sum((np.array(x)-np.array(y))**2)), DoubleType())\n",
    "    udf_sub  = udf(lambda x,y:(np.array(x)-np.array(y)).tolist(), ArrayType(DoubleType()))\n",
    "\n",
    "    df_dist = (df2.withColumn(\"sim\", udf_dist(df2.features1, df2.features2))\n",
    "            .withColumn(\"sub\",udf_sub(\"features1\",\"features2\")))\n",
    "\n",
    "    df3 = df_dist.select(\"id1\",\"id2\",struct(\"sim\",\"sub\").alias(\"val\"))\n",
    "    df4 = df3.select(\"id1\",struct(\"id2\",\"val\").alias(\"set\"))\n",
    "\n",
    "    st = StructType([StructField(\"qsum\", DoubleType()),\n",
    "                     StructField(\"q\", ArrayType(DoubleType())),\n",
    "                 StructField(\"sub\",ArrayType(ArrayType(DoubleType())))])\n",
    "\n",
    "    udf_sort = udf(sort_foo,st)\n",
    "\n",
    "    df5 = df4.groupBy(\"id1\").agg(collect_list(\"set\").alias(\"set\"))\n",
    "    df6 = (df5.withColumn(\"set\",udf_sort(\"set\")).select(col(\"id1\").alias(\"_id\"),\n",
    "                                                col(\"set.qsum\").alias(\"Qsum\"),\n",
    "                                                col(\"set.q\").alias(\"Q\"),\n",
    "                                                col(\"set.sub\").alias(\"Zsub\")))\n",
    "        \n",
    "    return(df6)\n"
   ]
  },
  {
   "cell_type": "code",
   "execution_count": 19,
   "metadata": {
    "collapsed": true
   },
   "outputs": [],
   "source": [
    "Y = DF.select(\"id\", col(\"Y\").alias(\"features\"))\n",
    "udf_foo = udf(lambda x:np.zeros(x).tolist(), ArrayType(DoubleType()))\n",
    "\n",
    "DF1 = Q_sub(Y)\n",
    "DF = DF.join(DF1, DF[\"id\"]==DF1[\"_id\"]).drop(\"_id\")\n",
    "Qsum = DF.groupBy().sum(\"Qsum\").collect()[0][\"sum(Qsum)\"]\n",
    "DF = DF.withColumn(\"Y_t_1\",udf_foo(lit(n_dim)))\n",
    "DF = DF.select(\"id\",\"P\",\"Q\",\"Zsub\",\"Y\", \"Y_t_1\",col(\"Y_t_1\").alias(\"Y_t_2\"))\n",
    "\n",
    "# cost function\n"
   ]
  },
  {
   "cell_type": "code",
   "execution_count": 20,
   "metadata": {
    "collapsed": false
   },
   "outputs": [
    {
     "name": "stdout",
     "output_type": "stream",
     "text": [
      "+---+--------------------+--------------------+--------------------+--------------------+----------+----------+\n",
      "| id|                   P|                   Q|                Zsub|                   Y|     Y_t_1|     Y_t_2|\n",
      "+---+--------------------+--------------------+--------------------+--------------------+----------+----------+\n",
      "| 26|[2.59989310919824...|[0.98170021906155...|[[-0.183897097854...|[0.35950784393690...|[0.0, 0.0]|[0.0, 0.0]|\n",
      "| 29|[7.99333745696438...|[0.91737969858859...|[[-0.498542659330...|[0.04486228246077...|[0.0, 0.0]|[0.0, 0.0]|\n",
      "| 65|[8.95399439694531...|[0.95959172566885...|[[-0.452972153594...|[0.09043278819643...|[0.0, 0.0]|[0.0, 0.0]|\n",
      "| 19|[2.62360433830685...|[0.95790576619089...|[[0.3471410029375...|[0.89054594472850...|[0.0, 0.0]|[0.0, 0.0]|\n",
      "| 54|[3.04540692486844...|[0.96152263103819...|[[0.4330951852248...|[0.97650012701585...|[0.0, 0.0]|[0.0, 0.0]|\n",
      "|  0|[0.0, 8.879165408...|[1.0, 0.899125296...|[[0.0, 0.0], [0.1...|[0.54340494179096...|[0.0, 0.0]|[0.0, 0.0]|\n",
      "|112|[1.01336299836041...|[0.78618910727690...|[[0.2530002833952...|[0.79640522518620...|[0.0, 0.0]|[0.0, 0.0]|\n",
      "|113|[5.82924011864010...|[0.99591932567566...|[[0.1412193299017...|[0.68462427169271...|[0.0, 0.0]|[0.0, 0.0]|\n",
      "| 22|[1.28331052825206...|[0.96791582463058...|[[-0.333378364118...|[0.21002657767286...|[0.0, 0.0]|[0.0, 0.0]|\n",
      "|130|[2.03172515107153...|[0.91377160699516...|[[-0.352568895979...|[0.19083604581122...|[0.0, 0.0]|[0.0, 0.0]|\n",
      "|  7|[3.93239235530642...|[0.73844615486367...|[[-0.323707449165...|[0.21969749262499...|[0.0, 0.0]|[0.0, 0.0]|\n",
      "| 77|[4.57359213464830...|[0.99998262402212...|[[-0.056513459421...|[0.48689148236912...|[0.0, 0.0]|[0.0, 0.0]|\n",
      "| 34|[1.18896822962791...|[0.99856128489011...|[[-0.180216937681...|[0.36318800410934...|[0.0, 0.0]|[0.0, 0.0]|\n",
      "|126|[2.22547643361091...|[0.79239380079046...|[[0.3169892491166...|[0.86039419090758...|[0.0, 0.0]|[0.0, 0.0]|\n",
      "| 50|[4.53502167267844...|[0.91417566862103...|[[0.2348842736588...|[0.77828921544984...|[0.0, 0.0]|[0.0, 0.0]|\n",
      "| 94|[2.83833660664597...|[0.99519870806836...|[[0.2623236656458...|[0.80572860743678...|[0.0, 0.0]|[0.0, 0.0]|\n",
      "|149|[1.82431608265616...|[0.99581178123618...|[[-0.121787432728...|[0.42161750906258...|[0.0, 0.0]|[0.0, 0.0]|\n",
      "|110|[1.66323000733620...|[0.97854535314835...|[[-0.280039158740...|[0.26336578305072...|[0.0, 0.0]|[0.0, 0.0]|\n",
      "| 57|[1.20432384683101...|[0.98643727733142...|[[-0.332426523072...|[0.21097841871844...|[0.0, 0.0]|[0.0, 0.0]|\n",
      "|136|[5.95680665270785...|[0.83826403833017...|[[-0.304069859695...|[0.23933508209581...|[0.0, 0.0]|[0.0, 0.0]|\n",
      "+---+--------------------+--------------------+--------------------+--------------------+----------+----------+\n",
      "only showing top 20 rows\n",
      "\n"
     ]
    }
   ],
   "source": [
    "DF.show()"
   ]
  },
  {
   "cell_type": "code",
   "execution_count": 21,
   "metadata": {
    "collapsed": false
   },
   "outputs": [
    {
     "data": {
      "text/plain": [
       "150"
      ]
     },
     "execution_count": 21,
     "metadata": {},
     "output_type": "execute_result"
    }
   ],
   "source": [
    "DF.count()"
   ]
  },
  {
   "cell_type": "code",
   "execution_count": 22,
   "metadata": {
    "collapsed": true
   },
   "outputs": [],
   "source": [
    "def kld_error(Q, P, Qsum):\n",
    "    \n",
    "    Q,P = np.array(Q)/Qsum, np.array(P)\n",
    "    P[P==0.0] = 1.0\n",
    "    cost = float(np.sum(P*np.log(P/Q)))\n",
    "    return(cost)\n"
   ]
  },
  {
   "cell_type": "code",
   "execution_count": 23,
   "metadata": {
    "collapsed": true
   },
   "outputs": [],
   "source": [
    "udf_kld = udf(kld_error, DoubleType())\n",
    "\n",
    "DF = DF.withColumn(\"err\",udf_kld(\"Q\",\"P\",lit(Qsum)))\n",
    "\n",
    "DF.cache()\n",
    "\n",
    "error_old = DF.groupBy().sum(\"err\").collect()[0][\"sum(err)\"]\n",
    "DF = DF.drop(\"err\")\n",
    "#print(\"error-old = \",error_old)\n"
   ]
  },
  {
   "cell_type": "code",
   "execution_count": 24,
   "metadata": {
    "collapsed": true
   },
   "outputs": [],
   "source": [
    "#function for one descent step \n",
    "def descent_step(q, P, Y_t, Y_t_1, Y_t_2,Z_sub, Q_sum,alpha, eta):\n",
    "    \n",
    "    q,P,Y_t,Y_t_1,Y_t_2,Z_sub = list(map(lambda x:np.array(x), [q, P, Y_t, Y_t_1, Y_t_2, Z_sub] ) )\n",
    "    Q_ = q/Q_sum \n",
    "    temp = ((P - Q_)*q).reshape(P.shape[0],1)\n",
    "    dY = (temp*Z_sub).sum(axis=0)\n",
    "    Y = Y_t + eta*dY +alpha*(Y_t_1-Y_t_2)\n",
    "    \n",
    "    return(Y.tolist())\n"
   ]
  },
  {
   "cell_type": "code",
   "execution_count": 25,
   "metadata": {
    "collapsed": true
   },
   "outputs": [],
   "source": [
    "udf_step = udf(descent_step, ArrayType(DoubleType()))\n",
    "\n",
    "alpha =0.2\n",
    "eta = 0.9\n"
   ]
  },
  {
   "cell_type": "code",
   "execution_count": 26,
   "metadata": {
    "collapsed": false
   },
   "outputs": [
    {
     "name": "stdout",
     "output_type": "stream",
     "text": [
      "('i = ', 0, '  error = ', 1484.098527057293)\n",
      "('i = ', 1, '  error = ', 1470.4185788572436)\n",
      "('i = ', 2, '  error = ', 1470.3678736576699)\n"
     ]
    }
   ],
   "source": [
    "max_iter =3\n",
    "for i in range(max_iter):\n",
    "    DF = (DF.withColumn(\"new_Y\", udf_step(\"Q\",\"P\",\"Y\",\"Y_t_1\",\n",
    "                                          \"Y_t_2\",\"Zsub\",lit(Qsum),lit(alpha),lit(eta))))\n",
    "    \n",
    "    DF = (DF.select(\"id\",\"P\",col(\"new_Y\").alias(\"Y\"),\n",
    "                   col(\"Y\").alias(\"Y_t_1\"),\n",
    "                   col(\"Y_t_1\").alias(\"Y_t_2\")))\n",
    "    \n",
    "    DF1 = DF.select(\"id\",col(\"Y\").alias(\"features\"))\n",
    "    DF1 = Q_sub(DF1)\n",
    "    \n",
    "    DF = DF.join(DF1, DF[\"id\"]==DF1[\"_id\"])\n",
    "    Qsum = DF.groupBy().sum(\"Qsum\").collect()[0][\"sum(Qsum)\"]\n",
    "    \n",
    "    DF = DF.withColumn(\"err\",udf_kld(\"Q\",\"P\",lit(Qsum)))\n",
    "    DF.cache()\n",
    "    error_new = DF.groupBy().sum(\"err\").collect()[0][\"sum(err)\"]\n",
    "    DF = DF.drop(\"err\")\n",
    "    print(\"i = \",i,\"  error = \",error_new)\n",
    "    if abs(error_old - error_new)<1e-3:\n",
    "        break\n",
    "    else:\n",
    "        error_old = error_new\n",
    "        \n",
    "\n"
   ]
  },
  {
   "cell_type": "code",
   "execution_count": 27,
   "metadata": {
    "collapsed": false
   },
   "outputs": [
    {
     "name": "stdout",
     "output_type": "stream",
     "text": [
      "+---+--------------------+--------------------+--------------------+--------------------+---+------------------+--------------------+--------------------+\n",
      "| id|                   P|                   Y|               Y_t_1|               Y_t_2|_id|              Qsum|                   Q|                Zsub|\n",
      "+---+--------------------+--------------------+--------------------+--------------------+---+------------------+--------------------+--------------------+\n",
      "| 26|[2.59989310919824...|[0.43143888645196...|[0.43144539495180...|[0.35952633470949...| 26|  135.291314200893|[0.96196290032354...|[[-0.223013799249...|\n",
      "| 29|[7.99333745696438...|[0.05257894846682...|[0.05309212683520...|[0.04449155292179...| 29|115.30078956329251|[0.83957913865518...|[[-0.601873737234...|\n",
      "| 65|[8.95399439694531...|[0.10781165261616...|[0.10812506883334...|[0.09023532849379...| 65|113.18277722598773|[0.91801959276244...|[[-0.546641033085...|\n",
      "| 19|[2.62360433830685...|[1.07029990425969...|[1.06968185227436...|[0.89105934655997...| 19|120.14346498747804|[0.91621163841105...|[[0.4158472185579...|\n",
      "| 54|[3.04540692486844...|[1.17417819837407...|[1.17318062375200...|[0.97718932047525...| 54| 98.44227066831867|[0.92321380803887...|[[0.5197255126723...|\n",
      "|  0|[0.0, 8.879165408...|[0.65445268570173...|[0.65354135027252...|[0.54413270307511...|  0|131.99147545746172|[1.0, 0.808947507...|[[0.0, 0.0], [0.1...|\n",
      "|112|[1.01336299836041...|[0.95649762255627...|[0.95616765125845...|[0.79664520744789...|112|105.55730786819115|[0.63621093831188...|[[0.3020449368545...|\n",
      "|113|[5.82924011864010...|[0.82172567717384...|[0.82164812366683...|[0.68467377188806...|113|135.02435566709568|[0.99183479086076...|[[0.1672729914721...|\n",
      "| 22|[1.28331052825206...|[0.25466132313233...|[0.25368267857433...|[0.21085262747836...| 22|128.48898931126107|[0.93519774805297...|[[-0.399791362569...|\n",
      "|130|[2.03172515107153...|[0.22777772234257...|[0.22823833465217...|[0.19045321268278...|130|123.10983479605076|[0.83396793298960...|[[-0.426674963359...|\n",
      "|  7|[3.93239235530642...|[0.26340460970237...|[0.26346642759548...|[0.21961258978890...|  7|  105.945948970091|[0.57069504103575...|[[-0.391048075999...|\n",
      "| 77|[4.57359213464830...|[0.58271206870857...|[0.58333241730272...|[0.48642241985551...| 77|133.85807945559816|[0.99995723574483...|[[-0.071740616993...|\n",
      "| 34|[1.18896822962791...|[0.43603535077874...|[0.43596346212010...|[0.36325741274412...| 34|125.31119158776931|[0.99691491598151...|[[-0.218417334922...|\n",
      "|126|[2.22547643361091...|[1.03442130653547...|[1.03362842255283...|[0.86097109041850...|126|104.07603296117648|[0.64484857415224...|[[0.3799686208337...|\n",
      "| 50|[4.53502167267844...|[0.93282846037962...|[0.93324448427657...|[0.77793748233012...| 50|120.80178123817646|[0.83780500562814...|[[0.2783757746778...|\n",
      "| 94|[2.83833660664597...|[0.96849023141872...|[0.96785837018332...|[0.80622049726704...| 94|118.89626782544332|[0.99016763745032...|[[0.3140375457169...|\n",
      "|149|[1.82431608265616...|[0.50590512408195...|[0.50593812117322...|[0.42161603988706...|149|114.21151353846147|[0.99105397288812...|[[-0.148547561619...|\n",
      "|110|[1.66323000733620...|[0.31487171261780...|[0.31530612869881...|[0.26299905296423...|110|131.56327794165793|[0.95537179556393...|[[-0.339580973083...|\n",
      "| 57|[1.20432384683101...|[0.25394039111453...|[0.25368443640129...|[0.21123397824399...| 57|125.81886461150887|[0.97191522455494...|[[-0.400512294587...|\n",
      "|136|[5.95680665270785...|[0.28755293848808...|[0.28740708102357...|[0.23943735842812...|136|116.65321183651714|[0.71255141064170...|[[-0.366899747213...|\n",
      "+---+--------------------+--------------------+--------------------+--------------------+---+------------------+--------------------+--------------------+\n",
      "only showing top 20 rows\n",
      "\n"
     ]
    }
   ],
   "source": [
    "DF.cache()\n",
    "DF.show()\n"
   ]
  },
  {
   "cell_type": "code",
   "execution_count": 28,
   "metadata": {
    "collapsed": false
   },
   "outputs": [
    {
     "data": {
      "text/plain": [
       "150"
      ]
     },
     "execution_count": 28,
     "metadata": {},
     "output_type": "execute_result"
    }
   ],
   "source": [
    "DF.count()"
   ]
  },
  {
   "cell_type": "code",
   "execution_count": 29,
   "metadata": {
    "collapsed": false
   },
   "outputs": [
    {
     "data": {
      "text/plain": [
       "u'/home/ec2-user/Projects/ScalableML/PySparkDemos'"
      ]
     },
     "execution_count": 29,
     "metadata": {},
     "output_type": "execute_result"
    }
   ],
   "source": [
    "pwd"
   ]
  },
  {
   "cell_type": "code",
   "execution_count": null,
   "metadata": {
    "collapsed": true
   },
   "outputs": [],
   "source": []
  }
 ],
 "metadata": {
  "anaconda-cloud": {},
  "kernelspec": {
   "display_name": "Python [conda root]",
   "language": "python",
   "name": "conda-root-py"
  },
  "language_info": {
   "codemirror_mode": {
    "name": "ipython",
    "version": 2
   },
   "file_extension": ".py",
   "mimetype": "text/x-python",
   "name": "python",
   "nbconvert_exporter": "python",
   "pygments_lexer": "ipython2",
   "version": "2.7.12"
  }
 },
 "nbformat": 4,
 "nbformat_minor": 1
}
